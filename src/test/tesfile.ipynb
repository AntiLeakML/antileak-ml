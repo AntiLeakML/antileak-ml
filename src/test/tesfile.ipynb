{
 "cells": [
  {
   "cell_type": "markdown",
   "metadata": {},
   "source": [
    "# oversampling datasets , new rows are synthesized based on existing rows"
   ]
  },
  {
   "cell_type": "code",
   "execution_count": null,
   "metadata": {},
   "outputs": [],
   "source": [
    "X_new , y_new = SMOTE () . fit_resample (X , y )"
   ]
  },
  {
   "cell_type": "markdown",
   "metadata": {},
   "source": [
    "# splits after over - sampling no longer produce independent train / test data"
   ]
  },
  {
   "cell_type": "code",
   "execution_count": null,
   "metadata": {},
   "outputs": [],
   "source": [
    "X_train , X_test , y_train , y_test = train_test_split (\n",
    "X_new , y_new , test_size =0.2 , random_state =42)\n",
    "rf = RandomForestClassifier () . fit ( X_train , y_train )\n",
    "rf . predict ( X_test )"
   ]
  },
  {
   "cell_type": "markdown",
   "metadata": {},
   "source": [
    "# select the best model with repeated evaluation"
   ]
  },
  {
   "cell_type": "code",
   "execution_count": null,
   "metadata": {},
   "outputs": [],
   "source": [
    "results = []\n",
    "for clf , name in ( ( DecisionTreeClassifier () , \" Decision Tree \") , ( Perceptron () , \" Perceptron \") ) :\n",
    "    clf . fit ( X_train , y_train )\n",
    "    pred = clf . predict ( X_test )\n",
    "    score = metrics . accuracy_score ( y_test , pred )\n",
    "    results . append ( score , name )"
   ]
  },
  {
   "cell_type": "markdown",
   "metadata": {},
   "source": [
    "# unknown words in test data leak into training data"
   ]
  },
  {
   "cell_type": "code",
   "execution_count": null,
   "metadata": {},
   "outputs": [],
   "source": [
    "wordsVectorizer = CountVectorizer () . fit ( text )\n",
    "wordsVector = wordsVectorizer . transform ( text )\n",
    "invTransformer = TfidfTransformer () . fit ( wordsVector )\n",
    "invFreqOfWords = invTransformer . transform ( wordsVector )\n",
    "X = pd . DataFrame ( invFreqOfWords . toarray () )\n",
    "\n",
    "train , test , spamLabelTrain , spamLabelTest = train_test_split (X , y , test_size = 0.5)\n",
    "predictAndReport ( train = train , test = test )"
   ]
  }
 ],
 "metadata": {
  "language_info": {
   "name": "python"
  }
 },
 "nbformat": 4,
 "nbformat_minor": 2
}
